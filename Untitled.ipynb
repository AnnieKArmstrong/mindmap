{
 "cells": [
  {
   "cell_type": "code",
   "execution_count": 9,
   "id": "070d932e",
   "metadata": {},
   "outputs": [],
   "source": [
    "import pandas as pd\n",
    "import openpyxl\n",
    "import xlrd\n",
    "import matplotlib.pyplot as plt\n",
    "import numpy as np\n",
    "import networkx\n",
    "pd.options.display.max_rows = 400"
   ]
  },
  {
   "cell_type": "code",
   "execution_count": 2,
   "id": "8fb87a5d",
   "metadata": {},
   "outputs": [],
   "source": [
    "X = pd.ExcelFile(\"C:/Users/Annie Armstrong/Documents/Github/mindmap/grp_edgelists/grp-edgelist.xlsx\")\n",
    "mindmap_df = X.parse(\"Individual lists\")\n",
    "grpmindmap_df = X.parse(\"Group list\")"
   ]
  },
  {
   "cell_type": "code",
   "execution_count": 15,
   "id": "7de0299b",
   "metadata": {},
   "outputs": [],
   "source": [
    "septmw_df = mindmap_df.query('Group == \"MW\" & Month == \"September\"')\n",
    "decmw_df = mindmap_df.query('Group == \"MW\" & Month == \"December\"')\n",
    "septtth_df = mindmap_df.query('Group == \"TTh\" & Month == \"September\"')\n",
    "dectth_df = mindmap_df.query('Group == \"TTh\" & Month == \"December\"')"
   ]
  },
  {
   "cell_type": "code",
   "execution_count": 19,
   "id": "353653a6",
   "metadata": {},
   "outputs": [
    {
     "name": "stdout",
     "output_type": "stream",
     "text": [
      "septmw 87 93\n",
      "decmw 85 91\n",
      "septtth 79 89\n"
     ]
    }
   ],
   "source": [
    "G = networkx.from_pandas_edgelist(septmw_df, 'Edge', 'Target')\n",
    "networkx.write_graphml(G, 'septmw.graphml')\n",
    "print('septmw', G.number_of_nodes(), G.number_of_edges())\n",
    "\n",
    "G = networkx.from_pandas_edgelist(decmw_df, 'Edge', 'Target')\n",
    "networkx.write_graphml(G, 'decmw.graphml')\n",
    "print('decmw', G.number_of_nodes(), G.number_of_edges())\n",
    "\n",
    "G = networkx.from_pandas_edgelist(septtth_df, 'Edge', 'Target')\n",
    "networkx.write_graphml(G, 'septtth.graphml')\n",
    "print('septtth', G.number_of_nodes(), G.number_of_edges())\n",
    "\n",
    "\n"
   ]
  }
 ],
 "metadata": {
  "kernelspec": {
   "display_name": "Python 3",
   "language": "python",
   "name": "python3"
  },
  "language_info": {
   "codemirror_mode": {
    "name": "ipython",
    "version": 3
   },
   "file_extension": ".py",
   "mimetype": "text/x-python",
   "name": "python",
   "nbconvert_exporter": "python",
   "pygments_lexer": "ipython3",
   "version": "3.9.4"
  }
 },
 "nbformat": 4,
 "nbformat_minor": 5
}
